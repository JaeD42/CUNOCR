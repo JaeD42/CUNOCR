{
 "cells": [
  {
   "cell_type": "code",
   "execution_count": 72,
   "metadata": {
    "collapsed": true
   },
   "outputs": [],
   "source": [
    "%matplotlib qt\n",
    "import lib.loader as Loader\n",
    "import numpy as np\n",
    "import tensorflow as tf\n",
    "import matplotlib.pyplot as plt\n",
    "from scipy import misc\n",
    "import os\n",
    "import Evaluation.Evals as evalFunc\n",
    "from tqdm import tqdm\n",
    "\n",
    "def reshape_with_zeros(arr,shape):\n",
    "    ret = np.zeros(shape)\n",
    "    arr=np.array(arr)\n",
    "    ret[0:arr.shape[0]*64,0:arr.shape[1]]=np.reshape(arr,(-1,len(arr[0])))\n",
    "    return ret\n",
    "\n",
    "def hstack_img_list(arr1,arr2):\n",
    "    mLen=max(len(arr1),len(arr2))*64\n",
    "    rs = reshape_with_zeros\n",
    "    return np.hstack((rs(arr1,(mLen,len(arr1[0]))),rs(arr2,(mLen,len(arr2[0])))))"
   ]
  },
  {
   "cell_type": "code",
   "execution_count": 4,
   "metadata": {},
   "outputs": [],
   "source": [
    "Cun = Loader.CuneiformSetLoader(path = \"/home/jan/Desktop/Cuneiform/img/aia2/CleanSeperated\",px=64)\n",
    "\n",
    "sPath = \"/home/jan/Desktop/Cuneiform/img/aia2/Clean/\"\n",
    "if not os.path.exists(sPath):\n",
    "    os.makedirs(sPath)\n",
    "data=Cun.dataset[0]"
   ]
  },
  {
   "cell_type": "code",
   "execution_count": 11,
   "metadata": {},
   "outputs": [],
   "source": [
    "import Nets.SiameseMetric as sNet\n",
    "netPath = \"/home/jan/Desktop/Cuneiform/savedNets/SiameseBackupMetric4_Cun_100.ckpt\"\n",
    "net,saver = sNet.runInit(sNet.backup3Net)\n",
    "sess = tf.Session()\n",
    "sNet.runRestore(sess, saver, netPath)"
   ]
  },
  {
   "cell_type": "code",
   "execution_count": 23,
   "metadata": {},
   "outputs": [],
   "source": [
    "encodings = []\n",
    "for d in data:\n",
    "    encodings.append(sess.run(net.enc1,feed_dict={net.x1:d}))"
   ]
  },
  {
   "cell_type": "code",
   "execution_count": 28,
   "metadata": {},
   "outputs": [],
   "source": [
    "def getSim(encs,ind1,ind2,sess,net):\n",
    "    e1=np.repeat(encs[ind1],len(encs[ind2]),axis=0)\n",
    "    e2=np.tile(encs[ind2],(len(encs[ind1]),1))\n",
    "    sim = sess.run(net.y_pred,feed_dict={net.enc1:e1,net.enc2:e2})\n",
    "    return sim"
   ]
  },
  {
   "cell_type": "code",
   "execution_count": 29,
   "metadata": {},
   "outputs": [],
   "source": [
    "s=getSim(encodings,0,1,sess,net)"
   ]
  },
  {
   "cell_type": "code",
   "execution_count": 139,
   "metadata": {},
   "outputs": [],
   "source": [
    "import time\n",
    "t=time.time()\n",
    "s=[]\n",
    "for i in range(len(data)):\n",
    "    for j in range(i,len(data)):\n",
    "        if i!=j:\n",
    "            s.append([i,j,getSim(encodings,i,j,sess,net)])\n",
    "            \n",
    "ti = time.time()-t"
   ]
  },
  {
   "cell_type": "code",
   "execution_count": 141,
   "metadata": {},
   "outputs": [],
   "source": [
    "import cPickle as pickle\n",
    "\n",
    "pickle.dump(s,open(\"simFile.p\",'w'))"
   ]
  },
  {
   "cell_type": "code",
   "execution_count": null,
   "metadata": {},
   "outputs": [],
   "source": [
    "lows = []\n",
    "for i in range(len(s)):\n",
    "    for j in range(i+1,len(s)):\n",
    "        if s[i,j]<0.25:\n",
    "            lows.append((i,j))"
   ]
  },
  {
   "cell_type": "code",
   "execution_count": 144,
   "metadata": {},
   "outputs": [
    {
     "data": {
      "text/plain": [
       "[[64, 200, array([[  8.85557979e-02],\n         [  3.35016362e-02],\n         [  3.33266221e-02],\n         [  2.51783460e-01],\n         [  1.73821449e-01],\n         [  1.73718661e-01],\n         [  8.21855813e-02],\n         [  1.53197965e-04],\n         [  1.16573945e-04],\n         [  8.21501389e-02],\n         [  1.28992004e-04],\n         [  8.32439473e-05]], dtype=float32)], [199, 200, array([[ 0.09549227],\n         [ 0.01375187],\n         [ 0.0136611 ],\n         [ 0.09094663],\n         [ 0.00897495],\n         [ 0.008946  ],\n         [ 0.23134923],\n         [ 0.15556858],\n         [ 0.15539457]], dtype=float32)], [185, 200, array([[  3.79013449e-01],\n         [  3.27070206e-01],\n         [  3.27195704e-01],\n         [  8.21693167e-02],\n         [  1.51280823e-04],\n         [  1.02512975e-04],\n         [  8.12413543e-02],\n         [  1.06739916e-03],\n         [  9.72141686e-04],\n         [  8.21785033e-02],\n         [  1.43814832e-04],\n         [  1.12217764e-04],\n         [  2.63985116e-02],\n         [  5.68093918e-02],\n         [  5.66817634e-02]], dtype=float32)], [162, 200, array([[ 0.16313244],\n         [ 0.09477023],\n         [ 0.09490912],\n         [ 0.1939974 ],\n         [ 0.12555265],\n         [ 0.12561674],\n         [ 0.08476385],\n         [ 0.0029976 ],\n         [ 0.00288956]], dtype=float32)], [64, 162, array([[ 0.12705034],\n         [ 0.12756592],\n         [ 0.03051003],\n         [ 0.26423573],\n         [ 0.06328978],\n         [ 0.17091489],\n         [ 0.09491149],\n         [ 0.1256949 ],\n         [ 0.0028659 ],\n         [ 0.09489413],\n         [ 0.12566005],\n         [ 0.00286879]], dtype=float32)], [64, 199, array([[ 0.04053704],\n         [ 0.04218461],\n         [ 0.18276893],\n         [ 0.18419763],\n         [ 0.1822395 ],\n         [ 0.31979862],\n         [ 0.01361556],\n         [ 0.00882951],\n         [ 0.15543559],\n         [ 0.01363994],\n         [ 0.00886287],\n         [ 0.1554427 ]], dtype=float32)], [38, 200, array([[ 0.24650183],\n         [ 0.1793475 ],\n         [ 0.17953481],\n         [ 0.08513843],\n         [ 0.00313972],\n         [ 0.00311115],\n         [ 0.0424914 ],\n         [ 0.12343503],\n         [ 0.12357377]], dtype=float32)], [200, 206, array([[  6.49084337e-03],\n         [  8.18801224e-02],\n         [  4.45821673e-01],\n         [  3.26468498e-01],\n         [  6.41533593e-03],\n         [  2.45769229e-02],\n         [  7.88376853e-02],\n         [  1.84317678e-02],\n         [  7.34472647e-02],\n         [  7.55930319e-02],\n         [  2.49727455e-04],\n         [  3.88333410e-01],\n         [  3.96485031e-01],\n         [  7.61353299e-02],\n         [  5.79044148e-02],\n         [  3.49591300e-03],\n         [  8.80791992e-02],\n         [  9.01137292e-03],\n         [  7.57331550e-02],\n         [  3.58071469e-04],\n         [  3.88421506e-01],\n         [  3.96594942e-01],\n         [  7.60796145e-02],\n         [  5.77946305e-02],\n         [  3.60060413e-03],\n         [  8.79881233e-02],\n         [  8.89594015e-03]], dtype=float32)], [29, 169, array([[ 0.21417814],\n         [ 0.2161912 ],\n         [ 0.0729841 ],\n         [ 0.0080275 ],\n         [ 0.00678786],\n         [ 0.15212347],\n         [ 0.18677779],\n         [ 0.1879036 ],\n         [ 0.04453961]], dtype=float32)], [125, 200, array([[ 0.09630293],\n         [ 0.01438813],\n         [ 0.01435485],\n         [ 0.08532508],\n         [ 0.00333055],\n         [ 0.00330454],\n         [ 0.08187237],\n         [ 0.00182322],\n         [ 0.00196442],\n         [ 0.4377169 ],\n         [ 0.37913257],\n         [ 0.37929571]], dtype=float32)]]"
      ]
     },
     "execution_count": 144,
     "metadata": {},
     "output_type": "execute_result"
    }
   ],
   "source": [
    "similarity[0:10]"
   ]
  },
  {
   "cell_type": "code",
   "execution_count": 73,
   "metadata": {},
   "outputs": [],
   "source": [
    "i=80\n",
    "plt.imshow(hstack_img_list(data[lows[i][0]],data[lows[i][1]]))\n",
    "plt.show()"
   ]
  },
  {
   "cell_type": "code",
   "execution_count": 104,
   "metadata": {},
   "outputs": [],
   "source": [
    "import tkMessageBox\n",
    "x=[]\n",
    "plt.ion()\n",
    "\n",
    "for l in lows:\n",
    "    l=gui_show(hstack_img_list(data[l[0]],data[l[1]]))\n",
    "    if l==-1:\n",
    "        break\n",
    "    x.append(l)"
   ]
  },
  {
   "cell_type": "code",
   "execution_count": 150,
   "metadata": {},
   "outputs": [
    {
     "data": {
      "text/plain": [
       "'Y'"
      ]
     },
     "execution_count": 150,
     "metadata": {},
     "output_type": "execute_result"
    }
   ],
   "source": [
    ""
   ]
  },
  {
   "cell_type": "code",
   "execution_count": 115,
   "metadata": {},
   "outputs": [],
   "source": [
    "d={}\n",
    "for x,y in lows:\n",
    "    if x in d:\n",
    "        d[x].append(y)\n",
    "    else:\n",
    "        d[x]=[y]"
   ]
  },
  {
   "cell_type": "code",
   "execution_count": 124,
   "metadata": {},
   "outputs": [],
   "source": [
    "delList = []\n",
    "for key,value in d.iteritems():\n",
    "    for v in value:\n",
    "        if v in d:\n",
    "            d[key].extend(d[v])\n",
    "            delList.append(v)"
   ]
  },
  {
   "cell_type": "code",
   "execution_count": 129,
   "metadata": {},
   "outputs": [
    {
     "data": {
      "text/plain": [
       "[{18, 20},\n {29,\n  72,\n  83,\n  85,\n  104,\n  106,\n  120,\n  125,\n  127,\n  128,\n  153,\n  162,\n  166,\n  169,\n  173,\n  174,\n  176,\n  179,\n  183,\n  185,\n  194,\n  199,\n  200,\n  202,\n  206,\n  217,\n  232,\n  245,\n  246},\n {38,\n  60,\n  61,\n  64,\n  82,\n  83,\n  101,\n  104,\n  106,\n  115,\n  120,\n  125,\n  127,\n  128,\n  153,\n  162,\n  166,\n  169,\n  173,\n  174,\n  176,\n  179,\n  183,\n  185,\n  194,\n  199,\n  200,\n  202,\n  206,\n  217,\n  232,\n  245,\n  246},\n {70, 217},\n {79, 200},\n {91, 200},\n {121, 200}]"
      ]
     },
     "execution_count": 129,
     "metadata": {},
     "output_type": "execute_result"
    }
   ],
   "source": [
    "x=[]\n",
    "for key,val in d.iteritems():\n",
    "    x.append(set(val))\n",
    "    x[-1].add(key)"
   ]
  },
  {
   "cell_type": "code",
   "execution_count": 136,
   "metadata": {},
   "outputs": [],
   "source": [
    "num=1\n",
    "for s in x:\n",
    "    p=sPath+str(num)\n",
    "    num+=1\n",
    "    os.makedirs(p)\n",
    "    imNum=0\n",
    "    for val in s:\n",
    "        for img in data[val]:\n",
    "            misc.imsave(p+\"/\"+str(imNum)+\".png\",img[:,:,0])\n",
    "            imNum+=1"
   ]
  },
  {
   "cell_type": "code",
   "execution_count": 165,
   "metadata": {},
   "outputs": [],
   "source": [
    "import matplotlib\n",
    "def gui_show(data):\n",
    "    matplotlib.use('TkAgg')\n",
    "    itL = iter(similarity)\n",
    "    \n",
    "    from matplotlib.backends.backend_tkagg import FigureCanvasTkAgg, NavigationToolbar2TkAgg\n",
    "    # implement the default mpl key bindings\n",
    "    from matplotlib.backend_bases import key_press_handler\n",
    "    \n",
    "    \n",
    "    from matplotlib.figure import Figure\n",
    "    \n",
    "    import sys\n",
    "    if sys.version_info[0] < 3:\n",
    "        import Tkinter as Tk\n",
    "    else:\n",
    "        import tkinter as Tk\n",
    "    x=[]\n",
    "    root = Tk.Tk()\n",
    "    root.wm_title(\"Embedding in TK\")\n",
    "    \n",
    "    \n",
    "    f = Figure(figsize=(5, 4), dpi=100)\n",
    "    a = f.add_subplot(111)\n",
    "    \n",
    "    v=itL.next()\n",
    "    a.imshow(hstack_img_list(data[v[0]],data[v[1]]))\n",
    "    \n",
    "    \n",
    "    # a tk.DrawingArea\n",
    "    canvas = FigureCanvasTkAgg(f, master=root)\n",
    "    canvas.show()\n",
    "    canvas.get_tk_widget().pack(side=Tk.TOP, fill=Tk.BOTH, expand=1)\n",
    "    \n",
    "    toolbar = NavigationToolbar2TkAgg(canvas, root)\n",
    "    toolbar.update()\n",
    "    canvas._tkcanvas.pack(side=Tk.TOP, fill=Tk.BOTH, expand=1)\n",
    "    \n",
    "    \n",
    "    def on_key_event(event):\n",
    "        print('you pressed %s' % event.key)\n",
    "        key_press_handler(event, canvas, toolbar)\n",
    "        \n",
    "    def _same(*args):\n",
    "        x.append('Yes')\n",
    "        v=itL.next()\n",
    "        a.clear()\n",
    "        print v[0],v[1]\n",
    "        a.imshow(hstack_img_list(data[v[0]],data[v[1]]))\n",
    "        \n",
    "        canvas.show()\n",
    "        root.update()\n",
    "        #_quit()\n",
    "    \n",
    "    def _differ(*args):\n",
    "        x.append('No')\n",
    "        #_quit()\n",
    "    canvas.mpl_connect('key_press_event', on_key_event)\n",
    "    \n",
    "    def stop():\n",
    "        x.append(-1)\n",
    "        _quit()\n",
    "    \n",
    "    \n",
    "    def _quit():\n",
    "        root.quit()     # stops mainloop\n",
    "        root.destroy()  # this is necessary on Windows to prevent\n",
    "                        # Fatal Python Error: PyEval_RestoreThread: NULL tstate\n",
    "    \n",
    "    button = Tk.Button(master=root, text='same', command=_same)\n",
    "    button2 = Tk.Button(master=root, text='different', command=_differ)\n",
    "    button3 = Tk.Button(master=root, text='stop', command=stop)\n",
    "    button.pack(side=Tk.BOTTOM)\n",
    "    button2.pack(side=Tk.BOTTOM)\n",
    "    button3.pack(side=Tk.BOTTOM)\n",
    "    \n",
    "    Tk.mainloop()\n",
    "    # If you put root.destroy() here, it will cause an error if\n",
    "    # the window is closed with the window manager.\n",
    "    return x[0]"
   ]
  },
  {
   "cell_type": "code",
   "execution_count": 166,
   "metadata": {},
   "outputs": [
    {
     "name": "stdout",
     "output_type": "stream",
     "text": [
      "you pressed left\n"
     ]
    },
    {
     "name": "stdout",
     "output_type": "stream",
     "text": [
      "you pressed left\n"
     ]
    },
    {
     "name": "stdout",
     "output_type": "stream",
     "text": [
      "you pressed left\n"
     ]
    },
    {
     "data": {
      "text/plain": [
       "-1"
      ]
     },
     "execution_count": 166,
     "metadata": {},
     "output_type": "execute_result"
    }
   ],
   "source": [
    "gui_show(data)"
   ]
  },
  {
   "cell_type": "code",
   "execution_count": null,
   "metadata": {},
   "outputs": [],
   "source": [
    ""
   ]
  },
  {
   "cell_type": "code",
   "execution_count": null,
   "metadata": {},
   "outputs": [],
   "source": [
    ""
   ]
  }
 ],
 "metadata": {
  "kernelspec": {
   "display_name": "Python 2",
   "language": "python",
   "name": "python2"
  },
  "language_info": {
   "codemirror_mode": {
    "name": "ipython",
    "version": 2.0
   },
   "file_extension": ".py",
   "mimetype": "text/x-python",
   "name": "python",
   "nbconvert_exporter": "python",
   "pygments_lexer": "ipython2",
   "version": "2.7.6"
  }
 },
 "nbformat": 4,
 "nbformat_minor": 0
}